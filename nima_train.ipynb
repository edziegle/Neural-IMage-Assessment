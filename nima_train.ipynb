{
 "cells": [
  {
   "cell_type": "code",
   "execution_count": 1,
   "outputs": [],
   "source": [
    "# The original NIMa codebase uses argparse, we simulate an argparse object here.\n",
    "config = type('test', (object,), {})()\n",
    "config.train = True\n",
    "config.train_csv_file = \"./train_labels.csv\"\n",
    "config.val_csv_file = \"./val_labels.csv\"\n",
    "config.conv_base_lr = 5e-4\n",
    "config.dense_lr = 5e-3\n",
    "config.lr_decay_rate = 0.95\n",
    "config.lr_decay_freq = 10\n",
    "config.train_batch_size = 64\n",
    "config.val_batch_size = 64\n",
    "config.decay = True\n",
    "config.ckpt_path = \"./ckpts\"\n",
    "config.epochs = 100\n",
    "config.early_stopping_patience = 10\n",
    "config.num_workers = 2\n",
    "config.warm_start = False # Use this option to resume from saved checkpoints\n",
    "config.warm_start_epoch = 0\n",
    "config.multi_gpu = False"
   ],
   "metadata": {
    "collapsed": false
   }
  },
  {
   "cell_type": "code",
   "execution_count": 2,
   "outputs": [],
   "source": [
    "import os\n",
    "\n",
    "os.environ[\"AWS_PROFILE\"]=\"video-refresh\""
   ],
   "metadata": {
    "collapsed": false
   }
  },
  {
   "cell_type": "code",
   "execution_count": null,
   "outputs": [
    {
     "name": "stdout",
     "output_type": "stream",
     "text": [
      "Using CPU\n"
     ]
    },
    {
     "name": "stderr",
     "output_type": "stream",
     "text": [
      "/Users/zieglere/miniconda3/envs/Neural-IMage-Assessment/lib/python3.9/site-packages/torchvision/models/_utils.py:208: UserWarning: The parameter 'pretrained' is deprecated since 0.13 and will be removed in 0.15, please use 'weights' instead.\n",
      "  warnings.warn(\n",
      "/Users/zieglere/miniconda3/envs/Neural-IMage-Assessment/lib/python3.9/site-packages/torchvision/models/_utils.py:223: UserWarning: Arguments other than a weight enum or `None` for 'weights' are deprecated since 0.13 and will be removed in 0.15. The current behavior is equivalent to passing `weights=VGG16_Weights.IMAGENET1K_V1`. You can also use `weights=VGG16_Weights.DEFAULT` to get the most up-to-date weights.\n",
      "  warnings.warn(msg)\n"
     ]
    },
    {
     "name": "stdout",
     "output_type": "stream",
     "text": [
      "Trainable params: 14.97 million\n"
     ]
    },
    {
     "name": "stderr",
     "output_type": "stream",
     "text": [
      "/Users/zieglere/miniconda3/envs/Neural-IMage-Assessment/lib/python3.9/site-packages/torch/nn/modules/container.py:139: UserWarning: Implicit dimension choice for softmax has been deprecated. Change the call to include dim=X as an argument.\n",
      "  input = module(input)\n"
     ]
    }
   ],
   "source": [
    "from main import main\n",
    "config.img_path = \"s3://sagemaker-studio-754610378112-lonxocmwmve/AVA Dataset/images/images\"\n",
    "main(config)"
   ],
   "metadata": {
    "collapsed": false,
    "pycharm": {
     "is_executing": true
    }
   }
  },
  {
   "cell_type": "code",
   "execution_count": null,
   "outputs": [],
   "source": [],
   "metadata": {
    "collapsed": false,
    "pycharm": {
     "is_executing": true
    }
   }
  }
 ],
 "metadata": {
  "kernelspec": {
   "display_name": "Python 3",
   "language": "python",
   "name": "python3"
  },
  "language_info": {
   "codemirror_mode": {
    "name": "ipython",
    "version": 2
   },
   "file_extension": ".py",
   "mimetype": "text/x-python",
   "name": "python",
   "nbconvert_exporter": "python",
   "pygments_lexer": "ipython2",
   "version": "2.7.6"
  }
 },
 "nbformat": 4,
 "nbformat_minor": 0
}
