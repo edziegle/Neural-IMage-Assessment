{
 "cells": [
  {
   "cell_type": "code",
   "execution_count": null,
   "outputs": [],
   "source": [
    "config= type('test', (object,), {})()\n",
    "config.img_path = \"foo\"\n",
    "config.train_csv_file = \"train_labels.csv\"\n",
    "config.val_csv_file = \"val_labels.csv\"\n",
    "config.conv_base_lr = 5e-4\n",
    "config.dense_lr = 5e-3\n",
    "config.lr_decay_rate = 0.95\n",
    "config.lr_decay_freq = 10\n",
    "config.train_batch_size = 128\n",
    "config.val_batch_size = 128\n",
    "config.decay = True\n",
    "config.ckpt_path = \"foo\"\n",
    "config.epochs = 100\n",
    "config.early_stopping_patience = 10\n",
    "config.num_workers = 2\n",
    "\n",
    "from main import main\n",
    "\n",
    "main(config)"
   ],
   "metadata": {
    "collapsed": false,
    "pycharm": {
     "is_executing": true
    }
   }
  },
  {
   "cell_type": "code",
   "execution_count": null,
   "outputs": [],
   "source": [],
   "metadata": {
    "collapsed": false,
    "pycharm": {
     "is_executing": true
    }
   }
  },
  {
   "cell_type": "code",
   "execution_count": null,
   "outputs": [],
   "source": [],
   "metadata": {
    "collapsed": false
   }
  }
 ],
 "metadata": {
  "kernelspec": {
   "display_name": "Python 3",
   "language": "python",
   "name": "python3"
  },
  "language_info": {
   "codemirror_mode": {
    "name": "ipython",
    "version": 2
   },
   "file_extension": ".py",
   "mimetype": "text/x-python",
   "name": "python",
   "nbconvert_exporter": "python",
   "pygments_lexer": "ipython2",
   "version": "2.7.6"
  }
 },
 "nbformat": 4,
 "nbformat_minor": 0
}
